{
 "cells": [
  {
   "cell_type": "code",
   "execution_count": 1,
   "id": "95ad6f6b",
   "metadata": {},
   "outputs": [
    {
     "name": "stderr",
     "output_type": "stream",
     "text": [
      "[WDM] - Downloading: 100%|██████████| 6.29M/6.29M [00:02<00:00, 2.35MB/s]\n"
     ]
    }
   ],
   "source": [
    "# Import dependencies\n",
    "import pandas as pd\n",
    "from splinter import Browser\n",
    "from selenium import webdriver\n",
    "from bs4 import BeautifulSoup as soup\n",
    "from webdriver_manager.chrome import ChromeDriverManager\n",
    "\n",
    "# Set up browser with Splinter\n",
    "executable_path = {'executable_path': ChromeDriverManager().install()}\n",
    "browser = Browser('chrome', **executable_path, headless=False)\n",
    "\n",
    "# Navigate to website scrape data \n",
    "url = 'https://redplanetscience.com/'\n",
    "browser.visit(url)\n",
    "html = browser.html\n",
    "news_soup = soup(html, 'html.parser')"
   ]
  },
  {
   "cell_type": "code",
   "execution_count": 2,
   "id": "55846c48",
   "metadata": {},
   "outputs": [],
   "source": [
    "# Define new list element\n",
    "news_list = []"
   ]
  },
  {
   "cell_type": "code",
   "execution_count": 3,
   "id": "9bf4dc67",
   "metadata": {},
   "outputs": [],
   "source": [
    "# create function to parse through the website HTML, extract required data, and add data to the list \n",
    "def news_summary():\n",
    "    html = browser.html\n",
    "    news_soup = soup(html, 'html.parser')\n",
    "    group_elem = news_soup.find_all('div', class_='list_text')\n",
    "\n",
    "    for elem in group_elem:\n",
    "        title = elem.find('div', class_='content_title').text\n",
    "        preview = elem.find('div', class_='article_teaser_body').text\n",
    "        news_dict = {\n",
    "            \"title\": title,\n",
    "            \"preview\": preview\n",
    "        }\n",
    "        news_list.append(news_dict)"
   ]
  },
  {
   "cell_type": "code",
   "execution_count": 4,
   "id": "9d75b2b8",
   "metadata": {},
   "outputs": [
    {
     "data": {
      "text/plain": [
       "[{'title': 'Scientists Explore Outback as Testbed for Mars ',\n",
       "  'preview': \"Australia provides a great place for NASA's Mars 2020 and the ESA-Roscosmos ExoMars scientists to hone techniques in preparation for searching for signs ancient life on Mars.\"},\n",
       " {'title': 'New Selfie Shows Curiosity, the Mars Chemist',\n",
       "  'preview': 'The NASA rover performed a special chemistry experiment at the location captured in its newest self-portrait.'},\n",
       " {'title': 'NASA to Hold Mars 2020 Perseverance Rover Launch Briefing',\n",
       "  'preview': \"Learn more about the agency's next Red Planet mission during a live event on June 17.\"},\n",
       " {'title': \"InSight's 'Mole' Team Peers into the Pit\",\n",
       "  'preview': 'Efforts to save the heat probe continue.'},\n",
       " {'title': \"NASA's New Mars Rover Will Use X-Rays to Hunt Fossils\",\n",
       "  'preview': \"PIXL, an instrument on the end of the Perseverance rover's arm, will search for chemical fingerprints left by ancient microbes.\"},\n",
       " {'title': 'NASA Invites Students to Name Mars 2020 Rover',\n",
       "  'preview': \"Through Nov. 1, K-12 students in the U.S. are encouraged to enter an essay contest to name NASA's next Mars rover.\"},\n",
       " {'title': \"HiRISE Views NASA's InSight and Curiosity on Mars\",\n",
       "  'preview': 'New images taken from space offer the clearest orbital glimpse yet of InSight as well as a view of Curiosity rolling along.'},\n",
       " {'title': \"How NASA's Perseverance Mars Team Adjusted to Work in the Time of Coronavirus \",\n",
       "  'preview': 'Like much of the rest of the world, the Mars rover team is pushing forward with its mission-critical work while putting the health and safety of their colleagues and community first.'},\n",
       " {'title': 'Mars Is Getting a New Robotic Meteorologist',\n",
       "  'preview': \"Sensors on NASA's Perseverance will help prepare for future human exploration by taking weather measurements and studying dust particles.\"},\n",
       " {'title': \"NASA's Mars 2020 Rover Goes Coast-to-Coast to Prep for Launch\",\n",
       "  'preview': \"The agency's first step in returning rocks from Mars just arrived at Kennedy Space Center. The Mars 2020 team now begins readying for a launch to the Red Planet this July.\"},\n",
       " {'title': \"NASA's Perseverance Rover Attached to Atlas V Rocket\",\n",
       "  'preview': 'Ready for its launch later in the month, the Mars-bound rover will touch terra firma no more.'},\n",
       " {'title': 'AI Is Helping Scientists Discover Fresh Craters on Mars',\n",
       "  'preview': \"It's the first time machine learning has been used to find previously unknown craters on the Red Planet.\"},\n",
       " {'title': 'NASA Invites Public to Share Excitement of Mars 2020 Perseverance Rover Launch',\n",
       "  'preview': 'There are lots of ways to participate in the historic event, which is targeted for July 30.'},\n",
       " {'title': \"NASA's InSight Flexes Its Arm While Its 'Mole' Hits Pause\",\n",
       "  'preview': \"Now that the lander's robotic arm has helped the mole get underground, it will resume science activities that have been on hold.\"},\n",
       " {'title': \"NASA's Curiosity Takes Selfie With 'Mary Anning' on the Red Planet\",\n",
       "  'preview': 'The Mars rover has drilled three samples of rock in this clay-enriched region since arriving in July.'}]"
      ]
     },
     "execution_count": 4,
     "metadata": {},
     "output_type": "execute_result"
    }
   ],
   "source": [
    "# call the function \n",
    "news_summary()\n",
    "\n",
    "# Print the list in your notebook\n",
    "news_list"
   ]
  },
  {
   "cell_type": "code",
   "execution_count": 5,
   "id": "0df280ea",
   "metadata": {},
   "outputs": [],
   "source": [
    "# Close the session\n",
    "browser.quit()"
   ]
  },
  {
   "cell_type": "code",
   "execution_count": 6,
   "id": "58a46d64",
   "metadata": {},
   "outputs": [],
   "source": [
    "# export the scraped data to a JSON file\n",
    "import json\n",
    "\n",
    "jsonString = json.dumps(news_list)\n",
    "jsonFile = open(\"news_list.json\", \"w\")\n",
    "jsonFile.write(jsonString)\n",
    "jsonFile.close()"
   ]
  },
  {
   "cell_type": "code",
   "execution_count": 7,
   "id": "4e8fc1ef",
   "metadata": {},
   "outputs": [
    {
     "data": {
      "text/html": [
       "<div>\n",
       "<style scoped>\n",
       "    .dataframe tbody tr th:only-of-type {\n",
       "        vertical-align: middle;\n",
       "    }\n",
       "\n",
       "    .dataframe tbody tr th {\n",
       "        vertical-align: top;\n",
       "    }\n",
       "\n",
       "    .dataframe thead th {\n",
       "        text-align: right;\n",
       "    }\n",
       "</style>\n",
       "<table border=\"1\" class=\"dataframe\">\n",
       "  <thead>\n",
       "    <tr style=\"text-align: right;\">\n",
       "      <th></th>\n",
       "      <th>title</th>\n",
       "      <th>preview</th>\n",
       "    </tr>\n",
       "  </thead>\n",
       "  <tbody>\n",
       "    <tr>\n",
       "      <th>0</th>\n",
       "      <td>Scientists Explore Outback as Testbed for Mars</td>\n",
       "      <td>Australia provides a great place for NASA's Ma...</td>\n",
       "    </tr>\n",
       "    <tr>\n",
       "      <th>1</th>\n",
       "      <td>New Selfie Shows Curiosity, the Mars Chemist</td>\n",
       "      <td>The NASA rover performed a special chemistry e...</td>\n",
       "    </tr>\n",
       "    <tr>\n",
       "      <th>2</th>\n",
       "      <td>NASA to Hold Mars 2020 Perseverance Rover Laun...</td>\n",
       "      <td>Learn more about the agency's next Red Planet ...</td>\n",
       "    </tr>\n",
       "    <tr>\n",
       "      <th>3</th>\n",
       "      <td>InSight's 'Mole' Team Peers into the Pit</td>\n",
       "      <td>Efforts to save the heat probe continue.</td>\n",
       "    </tr>\n",
       "    <tr>\n",
       "      <th>4</th>\n",
       "      <td>NASA's New Mars Rover Will Use X-Rays to Hunt ...</td>\n",
       "      <td>PIXL, an instrument on the end of the Persever...</td>\n",
       "    </tr>\n",
       "    <tr>\n",
       "      <th>5</th>\n",
       "      <td>NASA Invites Students to Name Mars 2020 Rover</td>\n",
       "      <td>Through Nov. 1, K-12 students in the U.S. are ...</td>\n",
       "    </tr>\n",
       "    <tr>\n",
       "      <th>6</th>\n",
       "      <td>HiRISE Views NASA's InSight and Curiosity on Mars</td>\n",
       "      <td>New images taken from space offer the clearest...</td>\n",
       "    </tr>\n",
       "    <tr>\n",
       "      <th>7</th>\n",
       "      <td>How NASA's Perseverance Mars Team Adjusted to ...</td>\n",
       "      <td>Like much of the rest of the world, the Mars r...</td>\n",
       "    </tr>\n",
       "    <tr>\n",
       "      <th>8</th>\n",
       "      <td>Mars Is Getting a New Robotic Meteorologist</td>\n",
       "      <td>Sensors on NASA's Perseverance will help prepa...</td>\n",
       "    </tr>\n",
       "    <tr>\n",
       "      <th>9</th>\n",
       "      <td>NASA's Mars 2020 Rover Goes Coast-to-Coast to ...</td>\n",
       "      <td>The agency's first step in returning rocks fro...</td>\n",
       "    </tr>\n",
       "    <tr>\n",
       "      <th>10</th>\n",
       "      <td>NASA's Perseverance Rover Attached to Atlas V ...</td>\n",
       "      <td>Ready for its launch later in the month, the M...</td>\n",
       "    </tr>\n",
       "    <tr>\n",
       "      <th>11</th>\n",
       "      <td>AI Is Helping Scientists Discover Fresh Crater...</td>\n",
       "      <td>It's the first time machine learning has been ...</td>\n",
       "    </tr>\n",
       "    <tr>\n",
       "      <th>12</th>\n",
       "      <td>NASA Invites Public to Share Excitement of Mar...</td>\n",
       "      <td>There are lots of ways to participate in the h...</td>\n",
       "    </tr>\n",
       "    <tr>\n",
       "      <th>13</th>\n",
       "      <td>NASA's InSight Flexes Its Arm While Its 'Mole'...</td>\n",
       "      <td>Now that the lander's robotic arm has helped t...</td>\n",
       "    </tr>\n",
       "    <tr>\n",
       "      <th>14</th>\n",
       "      <td>NASA's Curiosity Takes Selfie With 'Mary Annin...</td>\n",
       "      <td>The Mars rover has drilled three samples of ro...</td>\n",
       "    </tr>\n",
       "  </tbody>\n",
       "</table>\n",
       "</div>"
      ],
      "text/plain": [
       "                                                title  \\\n",
       "0     Scientists Explore Outback as Testbed for Mars    \n",
       "1        New Selfie Shows Curiosity, the Mars Chemist   \n",
       "2   NASA to Hold Mars 2020 Perseverance Rover Laun...   \n",
       "3            InSight's 'Mole' Team Peers into the Pit   \n",
       "4   NASA's New Mars Rover Will Use X-Rays to Hunt ...   \n",
       "5       NASA Invites Students to Name Mars 2020 Rover   \n",
       "6   HiRISE Views NASA's InSight and Curiosity on Mars   \n",
       "7   How NASA's Perseverance Mars Team Adjusted to ...   \n",
       "8         Mars Is Getting a New Robotic Meteorologist   \n",
       "9   NASA's Mars 2020 Rover Goes Coast-to-Coast to ...   \n",
       "10  NASA's Perseverance Rover Attached to Atlas V ...   \n",
       "11  AI Is Helping Scientists Discover Fresh Crater...   \n",
       "12  NASA Invites Public to Share Excitement of Mar...   \n",
       "13  NASA's InSight Flexes Its Arm While Its 'Mole'...   \n",
       "14  NASA's Curiosity Takes Selfie With 'Mary Annin...   \n",
       "\n",
       "                                              preview  \n",
       "0   Australia provides a great place for NASA's Ma...  \n",
       "1   The NASA rover performed a special chemistry e...  \n",
       "2   Learn more about the agency's next Red Planet ...  \n",
       "3            Efforts to save the heat probe continue.  \n",
       "4   PIXL, an instrument on the end of the Persever...  \n",
       "5   Through Nov. 1, K-12 students in the U.S. are ...  \n",
       "6   New images taken from space offer the clearest...  \n",
       "7   Like much of the rest of the world, the Mars r...  \n",
       "8   Sensors on NASA's Perseverance will help prepa...  \n",
       "9   The agency's first step in returning rocks fro...  \n",
       "10  Ready for its launch later in the month, the M...  \n",
       "11  It's the first time machine learning has been ...  \n",
       "12  There are lots of ways to participate in the h...  \n",
       "13  Now that the lander's robotic arm has helped t...  \n",
       "14  The Mars rover has drilled three samples of ro...  "
      ]
     },
     "execution_count": 7,
     "metadata": {},
     "output_type": "execute_result"
    }
   ],
   "source": [
    "# Create DataFrame from the list \n",
    "df = pd.DataFrame(news_list) \n",
    "df"
   ]
  },
  {
   "cell_type": "code",
   "execution_count": 8,
   "id": "59d9832b",
   "metadata": {},
   "outputs": [],
   "source": [
    "# Export DataFrame to CSV\n",
    "df.to_csv('C:/UNC-DataAnalyticsBootcamp/Web Scraping/Module11-Challenge-WebScraping/news_list.csv', index=False) "
   ]
  }
 ],
 "metadata": {
  "kernelspec": {
   "display_name": "Python 3 (ipykernel)",
   "language": "python",
   "name": "python3"
  },
  "language_info": {
   "codemirror_mode": {
    "name": "ipython",
    "version": 3
   },
   "file_extension": ".py",
   "mimetype": "text/x-python",
   "name": "python",
   "nbconvert_exporter": "python",
   "pygments_lexer": "ipython3",
   "version": "3.7.13"
  }
 },
 "nbformat": 4,
 "nbformat_minor": 5
}
